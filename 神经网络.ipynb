{
 "cells": [
  {
   "cell_type": "code",
   "execution_count": 1,
   "id": "2ab0ad42-edd3-47d8-8f59-048f33651292",
   "metadata": {},
   "outputs": [],
   "source": [
    "import pandas as pd\n",
    "import numpy as np\n",
    "import re\n",
    "from sklearn.preprocessing import StandardScaler\n",
    "from sklearn.metrics import accuracy_score\n",
    "from sklearn.neural_network import MLPClassifier\n",
    "import matplotlib.pyplot as plt #一个常用的绘图库，能够生成各种静态、动态和交互式的图形。"
   ]
  },
  {
   "cell_type": "code",
   "execution_count": 2,
   "id": "48036b11-23d8-4b96-943b-6becd15043cb",
   "metadata": {},
   "outputs": [],
   "source": [
    "# 读取数据\n",
    "df = pd.read_csv('data.csv')"
   ]
  },
  {
   "cell_type": "code",
   "execution_count": 3,
   "id": "acb06233-fe63-4fc2-8ea9-2f5761ed1685",
   "metadata": {},
   "outputs": [],
   "source": [
    "# 提取特征\n",
    "def extract_features(url):\n",
    "    length = len(url)  # URL长度\n",
    "    contains_digit = int(bool(re.search(r'\\d', url)))  # 是否包含数字\n",
    "    special_chars = len(re.findall(r'[-_?&=]', url))  # 特殊字符数量\n",
    "    domain = re.search(r'https?://([^/]+)', url)  # 提取域名\n",
    "    domain_count = 0\n",
    "    \n",
    "    if domain:\n",
    "        domain_parts = domain.group(1).split('.')\n",
    "        domain_count = len(domain_parts)\n",
    "    \n",
    "    return [length, contains_digit, special_chars, domain_count]"
   ]
  },
  {
   "cell_type": "code",
   "execution_count": 4,
   "id": "09035869-39fe-475b-b5d6-34cff2662d6b",
   "metadata": {},
   "outputs": [],
   "source": [
    "# 提取所有URL的特征\n",
    "features = df['url'].apply(extract_features)"
   ]
  },
  {
   "cell_type": "code",
   "execution_count": 5,
   "id": "2a06595b-e76c-4b57-a092-d6558ef8a86b",
   "metadata": {},
   "outputs": [],
   "source": [
    "# 转换为NumPy数组\n",
    "features = np.array(features.tolist())"
   ]
  },
  {
   "cell_type": "code",
   "execution_count": 6,
   "id": "0d7a7ab2-7feb-487a-af87-ad052d37013b",
   "metadata": {},
   "outputs": [],
   "source": [
    "# 标签转换为数值类型：0为bad, 1为good\n",
    "labels = np.array([1 if label == 'good' else 0 for label in df['label']])"
   ]
  },
  {
   "cell_type": "code",
   "execution_count": 7,
   "id": "3014291f-ada0-4cc1-b52d-d7bc17d17f00",
   "metadata": {},
   "outputs": [],
   "source": [
    "# 数据标准化\n",
    "scaler = StandardScaler()\n",
    "features = scaler.fit_transform(features)"
   ]
  },
  {
   "cell_type": "code",
   "execution_count": 8,
   "id": "e3eeb97c-d6cb-432c-b164-9770e596467e",
   "metadata": {},
   "outputs": [],
   "source": [
    "# 划分训练集和测试集\n",
    "def train_test(X, y, test_size=0.3, random_state=None):\n",
    "    np.random.seed(random_state)\n",
    "    total_samples = len(X)\n",
    "    test_samples = int(total_samples * test_size)\n",
    "    indices = np.random.permutation(total_samples)\n",
    "    \n",
    "    test_indices = indices[:test_samples]\n",
    "    train_indices = indices[test_samples:]\n",
    "    \n",
    "    X_train = X[train_indices]\n",
    "    X_test = X[test_indices]\n",
    "    y_train = y[train_indices]\n",
    "    y_test = y[test_indices]\n",
    "    \n",
    "    return X_train, X_test, y_train, y_test\n",
    "\n",
    "X_train, X_test, y_train, y_test = train_test(features, labels, test_size=0.3, random_state=42)"
   ]
  },
  {
   "cell_type": "code",
   "execution_count": 9,
   "id": "4f4d7901-9344-471e-87a3-9e230f283776",
   "metadata": {},
   "outputs": [],
   "source": [
    "# 神经网络参数初始化\n",
    "input_size = X_train.shape[1]  # 输入层大小\n",
    "hidden_size = 5  # 隐藏层神经元个数\n",
    "output_size = 1  # 输出层大小\n",
    "learning_rate = 0.01 # 每次参数更新的步长\n",
    "iterations = 1000 # 训练过程中的迭代次数，更新权重 1000 次"
   ]
  },
  {
   "cell_type": "code",
   "execution_count": 10,
   "id": "f4137691-a469-4b6f-abee-0f7ea412b82e",
   "metadata": {},
   "outputs": [],
   "source": [
    "# 初始化权重和偏置\n",
    "np.random.seed(520) #使用任何固定的数字\n",
    "W1 = np.random.randn(input_size, hidden_size)  # 输入到隐藏层的权重\n",
    "b1 = np.zeros((1, hidden_size))  # 隐藏层偏置，形状为 (1, hidden_size)，初始化为零\n",
    "W2 = np.random.randn(hidden_size, output_size)  # 隐藏层到输出层的权重\n",
    "b2 = np.zeros((1, output_size))  # 输出层偏置，形状为 (1, output_size)，初始化为零"
   ]
  },
  {
   "cell_type": "code",
   "execution_count": 11,
   "id": "49cb0d10-16ef-478d-a9c3-637e53f2d3ee",
   "metadata": {},
   "outputs": [],
   "source": [
    "# Sigmoid激活函数\n",
    "def sigmoid(x):\n",
    "    return 1 / (1 + np.exp(-x))\n",
    "\n",
    "# Sigmoid的导数，对于神经网络的反向传播，我们需要用到激活函数的导数来计算梯度并更新权重。\n",
    "def sigmoid_derivative(x):\n",
    "    return x * (1 - x)"
   ]
  },
  {
   "cell_type": "code",
   "execution_count": 12,
   "id": "cff721a9-c02a-4b62-8cad-8540add9db0c",
   "metadata": {},
   "outputs": [],
   "source": [
    "# 前向传播：通过输入数据计算每一层的输出，最终得到模型的预测结果 A2。\n",
    "def forward(X):\n",
    "    Z1 = np.dot(X, W1) + b1\n",
    "    A1 = sigmoid(Z1)\n",
    "    Z2 = np.dot(A1, W2) + b2\n",
    "    A2 = sigmoid(Z2)\n",
    "    return A1, A2\n",
    "\n",
    "# 反向传播：通过计算误差并反向传播，得到每一层的梯度，帮助优化模型参数（。\n",
    "def backward(X, y, A1, A2):\n",
    "    m = X.shape[0]\n",
    "    \n",
    "    dZ2 = A2 - y.reshape(-1, 1)\n",
    "    dW2 = (1 / m) * np.dot(A1.T, dZ2)\n",
    "    db2 = (1 / m) * np.sum(dZ2, axis=0, keepdims=True)\n",
    "    \n",
    "    dZ1 = np.dot(dZ2, W2.T) * sigmoid_derivative(A1)\n",
    "    dW1 = (1 / m) * np.dot(X.T, dZ1)\n",
    "    db1 = (1 / m) * np.sum(dZ1, axis=0, keepdims=True)\n",
    "    \n",
    "    return dW1, db1, dW2, db2"
   ]
  },
  {
   "cell_type": "code",
   "execution_count": 13,
   "id": "7edc5088-b59b-46de-90c7-2a4536e1cbef",
   "metadata": {},
   "outputs": [],
   "source": [
    "# 用来存储每次迭代的代价（用于绘图）\n",
    "costs = []"
   ]
  },
  {
   "cell_type": "code",
   "execution_count": 14,
   "id": "a0f6e51e-3447-4727-8a28-bb4a8ac3e6fa",
   "metadata": {},
   "outputs": [
    {
     "name": "stdout",
     "output_type": "stream",
     "text": [
      "Iteration 0 | Cost: 0.6038398717272119\n",
      "Iteration 100 | Cost: 0.3414924486276535\n",
      "Iteration 200 | Cost: 0.20846498287231444\n",
      "Iteration 300 | Cost: 0.16647284129258516\n",
      "Iteration 400 | Cost: 0.15295675181883764\n",
      "Iteration 500 | Cost: 0.14807654684177166\n",
      "Iteration 600 | Cost: 0.1461289795624167\n",
      "Iteration 700 | Cost: 0.14528492767498244\n",
      "Iteration 800 | Cost: 0.14488681417324467\n",
      "Iteration 900 | Cost: 0.14467661832060877\n"
     ]
    }
   ],
   "source": [
    "# 训练神经网络\n",
    "for i in range(iterations):\n",
    "    # 前向传播\n",
    "    A1, A2 = forward(X_train)\n",
    "    \n",
    "    # 计算误差和梯度\n",
    "    dW1, db1, dW2, db2 = backward(X_train, y_train, A1, A2)\n",
    "    \n",
    "    # 更新权重和偏置\n",
    "    W1 -= learning_rate * dW1\n",
    "    b1 -= learning_rate * db1\n",
    "    W2 -= learning_rate * dW2\n",
    "    b2 -= learning_rate * db2\n",
    "    \n",
    "    # 每100次迭代打印一次代价（这里只计算最后一层的误差）\n",
    "    if i % 100 == 0:\n",
    "        cost = np.mean((A2 - y_train.reshape(-1, 1)) ** 2)\n",
    "        costs.append(cost)\n",
    "        print(f\"Iteration {i} | Cost: {cost}\")"
   ]
  },
  {
   "cell_type": "code",
   "execution_count": 15,
   "id": "83826d74-8dcf-42df-8430-b100399e8501",
   "metadata": {},
   "outputs": [
    {
     "data": {
      "image/png": "[encoded data removed]",
      "text/plain": [
       "<Figure size 640x480 with 1 Axes>"
      ]
     },
     "metadata": {},
     "output_type": "display_data"
    }
   ],
   "source": [
    "# 绘制代价函数变化图\n",
    "plt.plot(range(0, iterations, 100), costs, color='blue')\n",
    "plt.xlabel('Iterations')\n",
    "plt.ylabel('Cost')\n",
    "plt.title('Cost Function Over Iterations')\n",
    "plt.grid(True)\n",
    "plt.show()"
   ]
  },
  {
   "cell_type": "code",
   "execution_count": 16,
   "id": "ba21d410-e982-48c4-b8a8-273064e90078",
   "metadata": {},
   "outputs": [
    {
     "name": "stdout",
     "output_type": "stream",
     "text": [
      "Neural Network Accuracy: 82.19%\n"
     ]
    }
   ],
   "source": [
    "# 测试神经网络\n",
    "def predict(X):\n",
    "    _, A2 = forward(X)\n",
    "    return (A2 >= 0.5).astype(int)\n",
    "\n",
    "# 预测结果\n",
    "y_pred = predict(X_test)\n",
    "\n",
    "# 计算准确率\n",
    "accuracy = accuracy_score(y_test, y_pred)\n",
    "print(f'Neural Network Accuracy: {accuracy * 100:.2f}%')"
   ]
  },
  {
   "cell_type": "code",
   "execution_count": null,
   "id": "d07b479d-0642-4fba-8ca9-079aedf49674",
   "metadata": {},
   "outputs": [],
   "source": []
  },
  {
   "cell_type": "code",
   "execution_count": null,
   "id": "f1c9029a-f69b-4385-8024-4b1e96ff3ddc",
   "metadata": {},
   "outputs": [],
   "source": []
  }
 ],
 "metadata": {
  "kernelspec": {
   "display_name": "Python 3 (ipykernel)",
   "language": "python",
   "name": "python3"
  },
  "language_info": {
   "codemirror_mode": {
    "name": "ipython",
    "version": 3
   },
   "file_extension": ".py",
   "mimetype": "text/x-python",
   "name": "python",
   "nbconvert_exporter": "python",
   "pygments_lexer": "ipython3",
   "version": "3.12.4"
  }
 },
 "nbformat": 4,
 "nbformat_minor": 5
}
